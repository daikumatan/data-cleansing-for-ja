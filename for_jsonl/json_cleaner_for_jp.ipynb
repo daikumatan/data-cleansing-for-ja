{
 "cells": [
  {
   "cell_type": "markdown",
   "metadata": {},
   "source": [
    "# FQA日本語クリーナー for `*.jsonl`"
   ]
  },
  {
   "cell_type": "markdown",
   "metadata": {},
   "source": [
    "## 事前準備"
   ]
  },
  {
   "cell_type": "code",
   "execution_count": 15,
   "metadata": {},
   "outputs": [],
   "source": [
    "import pandas as pd\n",
    "import numpy as np\n",
    "import os\n",
    "import shutil\n",
    "import re\n",
    "import json"
   ]
  },
  {
   "cell_type": "markdown",
   "metadata": {},
   "source": [
    "### 入力ファイルと出力ファイルの指定"
   ]
  },
  {
   "cell_type": "code",
   "execution_count": 16,
   "metadata": {},
   "outputs": [],
   "source": [
    "file_paths = [\"test_data.jsonl\"]\n",
    "output_file = \"processed_data\""
   ]
  },
  {
   "cell_type": "markdown",
   "metadata": {},
   "source": [
    "### 質問に相当するkey, 回答に相当するkeyの指定"
   ]
  },
  {
   "cell_type": "code",
   "execution_count": 17,
   "metadata": {},
   "outputs": [],
   "source": [
    "target_q = 'prompt'\n",
    "target_a = 'completion'"
   ]
  },
  {
   "cell_type": "markdown",
   "metadata": {},
   "source": [
    "### ファイルの読み込みとPandas DataFrameの作成\n",
    "\n",
    "複数のJSONL（JSON Lines）形式のファイルからデータを読み込み、それらを一つのデータフレームにまとめるために使用されます"
   ]
  },
  {
   "cell_type": "code",
   "execution_count": 18,
   "metadata": {},
   "outputs": [],
   "source": [
    "def read_json_lines(file_path):\n",
    "    data = []\n",
    "    with open(file_path, 'r', encoding='utf-8') as file:\n",
    "        for line_number, line in enumerate(file, start=1):\n",
    "            try:\n",
    "                # バックスラッシュをエスケープ\n",
    "                line = re.sub(r'\\\\', r'\\\\\\\\', line)\n",
    "                json_line = json.loads(line.strip())  # 余分な空白を除去\n",
    "                data.append(json_line)\n",
    "            except json.JSONDecodeError as e:\n",
    "                print(f\"Error decoding JSON in file {file_path} at line {line_number}: {line}\")\n",
    "                print(f\"Error message: {e}\")\n",
    "    return data\n",
    "\n",
    "def load_files_to_dataframe(file_paths):\n",
    "    all_data = []\n",
    "    for file_path in file_paths:\n",
    "        file_data = read_json_lines(file_path)\n",
    "        all_data.extend(file_data)\n",
    "    df = pd.DataFrame(all_data, columns=[target_q, target_a])\n",
    "    return df\n",
    "\n",
    "# DataFrameに読み込む\n",
    "df = load_files_to_dataframe(file_paths)"
   ]
  },
  {
   "cell_type": "markdown",
   "metadata": {},
   "source": [
    "## 日本語修正"
   ]
  },
  {
   "cell_type": "markdown",
   "metadata": {},
   "source": [
    "### カスタム関数"
   ]
  },
  {
   "cell_type": "code",
   "execution_count": 19,
   "metadata": {},
   "outputs": [],
   "source": [
    "# 正規表現パターンを定義して、行末の全角スペースと半角スペースを削除\n",
    "def remove_trailing_spaces(text):\n",
    "    return re.sub(r'[ \\u3000]+$', '', text)\n",
    "\n",
    "# 例:\n",
    "# - 変換前:【カテゴリ】メッセージ：「メッセージ内容」の形式を\n",
    "# - 変換後:【カテゴリ】カテゴリのメッセージとして「メッセージ内容」を得ました。具体的にどうすればよいでしょうか？に変換する関数\n",
    "def custom_transform1(text):\n",
    "    # 正規表現パターンを定義\n",
    "    pattern = r'【(.+?)】メッセージ：(?:「(.+?)」|｢(.+?)｣)'\n",
    "    \n",
    "    # 正規表現で一致する部分を抽出\n",
    "    match = re.match(pattern, text)\n",
    "    \n",
    "    if match:\n",
    "        category = match.group(1)\n",
    "        message_content = match.group(2)\n",
    "        \n",
    "        # 新しい形式に変換\n",
    "        new_message = f\"【{category}】{category}のメッセージとして「{message_content}」を得ました。具体的にどうすればよいでしょうか？\"\n",
    "        return new_message\n",
    "    else:\n",
    "        return text\n",
    "\n",
    "# 例: \n",
    "# - 変換前: 分析方法(パターン認識) \n",
    "# - 変換後: 分析方法(パターン認識)について教えてほしい。\n",
    "def custom_transform2(text):\n",
    "    # 正規表現パターンを定義\n",
    "    pattern = r'(.*方法)\\((.*)\\)'\n",
    "    \n",
    "    # 正規表現で一致する部分を抽出して置換\n",
    "    match = re.match(pattern, text)\n",
    "    \n",
    "    if match:\n",
    "        sentence = match.group(1)\n",
    "        supplement = match.group(2)\n",
    "        \n",
    "        # 新しい形式に変換\n",
    "        new_sentence = f\"{sentence}({supplement})について教えてほしい。\"\n",
    "        return new_sentence\n",
    "    else:\n",
    "        return text\n",
    "\n",
    "# 例: \n",
    "# - 変換前: データ処理方法（このデータの前処理）\n",
    "# - 変換後: データ処理方法（このデータの前処理）について教えてほしい。\n",
    "def custom_transform3(text):\n",
    "    # 正規表現パターンを定義\n",
    "    pattern = r'(.*)[\\(\\（](.*)[\\)\\）]'\n",
    "    \n",
    "    # 正規表現で一致する部分を抽出して置換\n",
    "    match = re.match(pattern, text)\n",
    "    \n",
    "    if match:\n",
    "        sentence = match.group(1)\n",
    "        message = match.group(2)\n",
    "        \n",
    "        # 新しい形式に変換\n",
    "        new_sentence = f\"{sentence}({message})について教えてほしい。\"\n",
    "        return new_sentence\n",
    "    else:\n",
    "        return text\n",
    "\n",
    "# 例\n",
    "# - 変換前:【技術】新しいアルゴリズムの開発方法について教えてください。\n",
    "# - 変換後: 技術に関する質問です。新しいアルゴリズムの開発方法について教えてください。\n",
    "def custom_transform4(text):\n",
    "    # 正規表現パターンを定義\n",
    "    pattern = r'【(.+?)】(.+)'\n",
    "    \n",
    "    # 正規表現で一致する部分を抽出\n",
    "    match = re.match(pattern, text)\n",
    "    \n",
    "    if match:\n",
    "        category = match.group(1)\n",
    "        question = match.group(2)\n",
    "        \n",
    "        # 新しい形式に変換\n",
    "        new_text = f\"{category}に関する質問です。{question}\"\n",
    "        return new_text\n",
    "    else:\n",
    "        return text\n",
    "\n",
    "# 行末が \"。\" もしくは \"？\" で終わっていない行を抽出して更新する関数 (確認用に使用)\n",
    "# - 変換前: このプロジェクトの詳細\n",
    "# - 変換後: このプロジェクトの詳細について教えてください。\n",
    "def append_text_if_no_punctuation(text):\n",
    "    if not re.search(r'[。？]$', text):  # 行末が \"。\" もしくは \"？\" で終わっていないか確認\n",
    "        return text + \"について教えてください。\"\n",
    "    return text\n",
    "\n",
    "\n",
    "# 空行とスペースを削除する関数\n",
    "def remove_empty_lines_and_spaces(text):\n",
    "    text = re.sub(r'[A-Z][0-9]{4}', '', text)\n",
    "    text = re.sub(r'[A-Z][0-9]{3}', '', text)\n",
    "    text = re.sub(r'\\n\\s*\\n', '\\n', text)  # 空行を削除\n",
    "    text = text.replace(' ', '')  # 半角スペースを削除\n",
    "    text = text.replace('　', '')  # 全角スペースを削除\n",
    "    #text = text.replace('\"', '')\n",
    "    text = re.sub(r'[\\r\\n]+', '', text)  # 改行コードを削除\n",
    "    return text"
   ]
  },
  {
   "cell_type": "markdown",
   "metadata": {},
   "source": [
    "### 処理1: カスタム処理 (処理の順番の依存関係に注意)"
   ]
  },
  {
   "cell_type": "code",
   "execution_count": 20,
   "metadata": {},
   "outputs": [],
   "source": [
    "df[target_q] = df[target_q].str.replace('。$', '', regex=True)\n",
    "df[target_q] = df[target_q].apply(remove_trailing_spaces)\n",
    "#df[target_q] = df[target_q].apply(custom_transform1)\n",
    "df[target_q] = df[target_q].apply(custom_transform3)\n",
    "df[target_q] = df[target_q].apply(custom_transform4)"
   ]
  },
  {
   "cell_type": "markdown",
   "metadata": {},
   "source": [
    "### 処理2: 簡単な正規表現と置換のみで対応可能 (処理の順番の依存関係に注意)"
   ]
  },
  {
   "cell_type": "code",
   "execution_count": 21,
   "metadata": {},
   "outputs": [],
   "source": [
    "df[target_q] = df[target_q].str.replace(r'です(\\。)?$', '', regex=True)\n",
    "df[target_q] = df[target_q].str.replace(r'か(\\。)?$', 'か？', regex=True)\n",
    "df[target_q] = df[target_q].str.replace(r'は(\\。)?$', 'は？', regex=True)\n",
    "df[target_q] = df[target_q].str.replace(r'出る$', 'でる？', regex=True)\n",
    "df[target_q] = df[target_q].str.replace(r'出ます$', 'でます？', regex=True)\n",
    "df[target_q] = df[target_q].str.replace('エラーがでます$', 'エラーがでる。どうすれば良いか？', regex=True)\n",
    "df[target_q] = df[target_q].str.replace('エラーがでました$', 'エラーがでる。どうすれば良いか？', regex=True)\n",
    "df[target_q] = df[target_q].str.replace('エラーがでる$', 'エラーがでる。どうしたら良いか？', regex=True)\n",
    "df[target_q] = df[target_q].str.replace('エラーがでた$', 'エラーがでた。どうしたら良いか？', regex=True)\n",
    "df[target_q] = df[target_q].str.replace('エラーになります$', 'エラーになります。どうしたら良いか？', regex=True)\n",
    "df[target_q] = df[target_q].str.replace('エラーになりました$', 'エラーになりました。どうしたら良いか？', regex=True)\n",
    "df[target_q] = df[target_q].str.replace('メッセージがでる$', 'メッセージがでる。どうしたら良いか？', regex=True)\n",
    "df[target_q] = df[target_q].str.replace('メッセージがでます$', 'メッセージがでます。どうしたら良いか？', regex=True)\n",
    "df[target_q] = df[target_q].str.replace('お願いします$', 'お願いしたいのですがどうすればよいですか？', regex=True)\n",
    "df[target_q] = df[target_q].str.replace('消えてまう$', '消えてしまいます。どうすれば良いですか？', regex=True)\n",
    "df[target_q] = df[target_q].str.replace('ない$', 'ない。どうすれば良いか？', regex=True)\n",
    "df[target_q] = df[target_q].str.replace('たい$', 'たい。どうすれば良いか？', regex=True)\n",
    "df[target_q] = df[target_q].str.replace('方法$', '方法を教えてほしい。', regex=True)\n",
    "df[target_q] = df[target_q].str.replace('意味$', '意味について教えてほしい。', regex=True)\n",
    "df[target_q] = df[target_q].str.replace('設定$', '設定について教えてほしい。', regex=True)\n",
    "df[target_q] = df[target_q].str.replace('数$', '数について教えてほしい。', regex=True)\n",
    "df[target_q] = df[target_q].str.replace('制限$', '制限について教えてほしい。', regex=True)\n",
    "df[target_q] = df[target_q].str.replace('感じる$', '感じる。どうすれば良いか？', regex=True)\n",
    "df[target_q] = df[target_q].str.replace('なる$', 'なることについて教えてほしい。', regex=True)\n",
    "df[target_q] = df[target_q].str.replace('しまう$', 'しまうことについて教えてほしい。', regex=True)\n",
    "df[target_q] = df[target_q].str.replace('ついて$', 'ついて教えてほしい。', regex=True)\n",
    "df[target_q] = df[target_q].str.replace('された$', 'された。どうすれば良いか？', regex=True)\n",
    "df[target_q] = df[target_q].str.replace('されます$', 'されます。どうすれば良いですか？', regex=True)\n",
    "df[target_q] = df[target_q].str.replace('される$', 'される。どうすれば良いか？', regex=True)\n",
    "df[target_q] = df[target_q].str.replace('されます$', 'されます。どうすれば良いですか？', regex=True)\n",
    "df[target_q] = df[target_q].str.replace('ている$', 'ている。どうすれば良いですか？', regex=True)\n",
    "df[target_q] = df[target_q].str.replace('所$', '所について教えてほしい。', regex=True)\n",
    "df[target_q] = df[target_q].str.replace('方$', '方について教えてほしい。', regex=True)\n",
    "df[target_q] = df[target_q].str.replace('する$', 'する。どうすれば良いか？', regex=True)\n",
    "df[target_q] = df[target_q].str.replace('しまった$', 'しまった。どうすれば良いか？', regex=True)\n",
    "df[target_q] = df[target_q].str.replace('届いた$', '届いた。どうすれば良いか？。', regex=True)\n",
    "df[target_q] = df[target_q].str.replace('違い$', '違いについて教えてほしい。', regex=True)\n",
    "df[target_q] = df[target_q].str.replace('悪い$', '悪い。どうすれば良いか？', regex=True)\n",
    "df[target_q] = df[target_q].str.replace('ある$', 'ある。どうすれば良いか？', regex=True)\n",
    "df[target_q] = df[target_q].str.replace('変わる$', '変わる。どうすれば良いか？', regex=True)\n",
    "df[target_q] = df[target_q].str.replace('した$', 'した。どうしたら良いか？', regex=True)\n",
    "df[target_q] = df[target_q].str.replace('なった$', 'なった。どうしたら良いか？', regex=True)\n",
    "df[target_q] = df[target_q].str.replace('遅い$', '遅い。どうしたら良いか？', regex=True)\n",
    "df[target_q] = df[target_q].str.replace('取り扱い$', '取り扱いについて教えてください？', regex=True)\n",
    "df[target_q] = df[target_q].str.replace('ほしい$', 'ほしい。どうしたら良いか？', regex=True)\n",
    "df[target_q] = df[target_q].str.replace('ありません$', 'ありません。どうしたら良いか？', regex=True)\n",
    "df[target_q] = df[target_q].str.replace('生じる$', '生じる。どうしたら良いか？', regex=True)\n",
    "df[target_q] = df[target_q].str.replace('注意点$', '注意点について教えてください。', regex=True)\n",
    "df[target_q] = df[target_q].str.replace('したいです$', 'したいです。どうすればよいですか？', regex=True)\n",
    "df[target_q] = df[target_q].str.replace('開けません$', '開けません。どうすればよいですか？', regex=True)\n",
    "df[target_q] = df[target_q].str.replace('されている$', 'されている。どうすればよいですか？', regex=True)\n",
    "df[target_q] = df[target_q].str.replace('されています$', 'されています。どうすればよいですか？', regex=True)\n",
    "df[target_q] = df[target_q].str.replace('います$', 'います。どうすればよいですか？', regex=True)\n",
    "df[target_q] = df[target_q].str.replace('ません$', 'ません。どうすればよいですか？', regex=True)\n",
    "df[target_q] = df[target_q].str.replace('なります$', 'なります。どうすればよいですか？', regex=True)\n",
    "df[target_q] = df[target_q].str.replace('あります$', 'あります。どうすればよいですか？', regex=True)\n",
    "df[target_q] = df[target_q].str.replace('きます$', 'きます。どうすればよいですか？', regex=True)\n",
    "df[target_q] = df[target_q].str.replace('します$', 'します。どうすればよいですか？', regex=True)\n",
    "df[target_q] = df[target_q].str.replace('なかった$', 'なかった。どうすればよいですか？', regex=True)\n",
    "df[target_q] = df[target_q].str.replace('かかった$', 'かかった。どうすればよいですか？', regex=True)\n",
    "df[target_q] = df[target_q].str.replace('かかります$', 'かかります。どうすればよいですか？', regex=True)\n",
    "df[target_q] = df[target_q].str.replace('かかる$', 'かかる。どうすればよいですか？', regex=True)\n",
    "df[target_q] = df[target_q].str.replace('られる$', 'られる。どうすればよいですか？', regex=True)\n",
    "df[target_q] = df[target_q].str.replace('られます$', 'られます。どうすればよいですか？', regex=True)\n",
    "df[target_q] = df[target_q].str.replace('れた$', 'れた。どうすればよいですか？', regex=True)\n",
    "df[target_q] = df[target_q].str.replace('がいる$', 'がいる。どうすればよいですか？', regex=True)"
   ]
  },
  {
   "cell_type": "markdown",
   "metadata": {},
   "source": [
    "### ぬけもれ確認用\n",
    "\n",
    "- 基本的には、末尾が\"。\"か\"?\"で必ず終わるようにしている。\n",
    "- そのため、`df[target_q]`の末尾が \"。\" もしくは \"？\" で終わっていない行を抽出し、ぬけもれを調べている"
   ]
  },
  {
   "cell_type": "code",
   "execution_count": 22,
   "metadata": {},
   "outputs": [],
   "source": [
    "df[target_q] = df[target_q].apply(append_text_if_no_punctuation)"
   ]
  },
  {
   "cell_type": "markdown",
   "metadata": {},
   "source": [
    "### 質問, 回答も含めて空行やスペースを削除"
   ]
  },
  {
   "cell_type": "code",
   "execution_count": 23,
   "metadata": {},
   "outputs": [],
   "source": [
    "# 全てのセルに対して空行を削除\n",
    "df = df.applymap(remove_empty_lines_and_spaces)"
   ]
  },
  {
   "cell_type": "markdown",
   "metadata": {},
   "source": [
    "## ファイルの保存"
   ]
  },
  {
   "cell_type": "markdown",
   "metadata": {},
   "source": [
    "### onelinerのcsvとして保存(2列)"
   ]
  },
  {
   "cell_type": "code",
   "execution_count": 24,
   "metadata": {},
   "outputs": [],
   "source": [
    "df.to_csv(f'{output_file}.csv', index=False)"
   ]
  },
  {
   "cell_type": "markdown",
   "metadata": {},
   "source": [
    "### onelinerのtxtとして保存"
   ]
  },
  {
   "cell_type": "code",
   "execution_count": 25,
   "metadata": {},
   "outputs": [],
   "source": [
    "# 質問と回答を結合してテキストデータを作成\n",
    "merged_text = df[target_q] + df[target_q]\n",
    "# テキストファイルに保存\n",
    "with open(f'{output_file}.txt', 'w') as file:\n",
    "    for text in merged_text:\n",
    "        file.write(text + \"\\n\")"
   ]
  },
  {
   "cell_type": "markdown",
   "metadata": {},
   "source": [
    "### 質問の行末確認用コード\n",
    "\n",
    "- `filtered_output.csv`というファイルを作成して、行末の状態を確認する\n",
    "- 特にQuestionであれば\"?\"で終わっていない文章を抽出することがそもそもの目的"
   ]
  },
  {
   "cell_type": "code",
   "execution_count": 26,
   "metadata": {},
   "outputs": [
    {
     "name": "stdout",
     "output_type": "stream",
     "text": [
      "Filtered data has been written to 'filtered_output.csv'\n"
     ]
    }
   ],
   "source": [
    "#df = pd.DataFrame(data)\n",
    "\n",
    "# \"。\"もしくは\"？\"で終わっていない行を抽出\n",
    "pattern = r'[^。？? 教えてください]$'\n",
    "filtered_df = df[df[target_q].str.contains(pattern, na=False)]\n",
    "\n",
    "# 結果をファイルに出力\n",
    "filtered_df.to_csv('filtered_output.csv', index=False, encoding='utf-8-sig')\n",
    "\n",
    "print(\"Filtered data has been written to 'filtered_output.csv'\")"
   ]
  },
  {
   "cell_type": "markdown",
   "metadata": {},
   "source": [
    "### 処理後の結果をjsonで出力"
   ]
  },
  {
   "cell_type": "code",
   "execution_count": 27,
   "metadata": {},
   "outputs": [],
   "source": [
    "def save_dataframe_to_jsonl(df, output_file):\n",
    "    with open(output_file, 'w', encoding='utf-8') as file:\n",
    "        for _, row in df.iterrows():\n",
    "            # JSON文字列内のバックスラッシュと改行を元の状態に戻す\n",
    "            prompt = row['prompt'].replace('\\\\\\\\', '\\\\').replace('\\\\n', '\\n')\n",
    "            completion = row['completion'].replace('\\\\\\\\', '\\\\').replace('\\\\n', '\\n')\n",
    "            json_line = json.dumps({\"prompt\": prompt, \"completion\": completion}, ensure_ascii=False)\n",
    "            file.write(json_line + '\\n')"
   ]
  },
  {
   "cell_type": "code",
   "execution_count": 28,
   "metadata": {},
   "outputs": [],
   "source": [
    "save_dataframe_to_jsonl(df, f'{output_file}.jsonl')"
   ]
  }
 ],
 "metadata": {
  "kernelspec": {
   "display_name": "mldl",
   "language": "python",
   "name": "python3"
  },
  "language_info": {
   "codemirror_mode": {
    "name": "ipython",
    "version": 3
   },
   "file_extension": ".py",
   "mimetype": "text/x-python",
   "name": "python",
   "nbconvert_exporter": "python",
   "pygments_lexer": "ipython3",
   "version": "3.9.15"
  }
 },
 "nbformat": 4,
 "nbformat_minor": 2
}
