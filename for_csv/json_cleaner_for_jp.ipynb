{
 "cells": [
  {
   "cell_type": "markdown",
   "metadata": {},
   "source": [
    "# 日本語クリーナ for CSV"
   ]
  },
  {
   "cell_type": "markdown",
   "metadata": {},
   "source": [
    "## 事前準備"
   ]
  },
  {
   "cell_type": "code",
   "execution_count": 1,
   "metadata": {},
   "outputs": [],
   "source": [
    "import pandas as pd\n",
    "import numpy as np\n",
    "import os\n",
    "import shutil\n",
    "import re"
   ]
  },
  {
   "cell_type": "markdown",
   "metadata": {},
   "source": [
    "### 入力ファイルと出力ファイルの指定"
   ]
  },
  {
   "cell_type": "code",
   "execution_count": 2,
   "metadata": {},
   "outputs": [],
   "source": [
    "input_file = \"test_data.csv\" # 入力ファイル名\n",
    "output_file = \"processed_oneline\"   # 出力ファイル名\n",
    "split_oneliner_dir = \"split-oneliner-files\" # 行ごとに分割したファイルを保存するディレクトリ\n",
    "col_q = \"質問\" # 分割する対象の列名\n",
    "col_a = \"回答\" # 分割する対象の列名"
   ]
  },
  {
   "cell_type": "markdown",
   "metadata": {},
   "source": [
    "### ファイルの読み込み"
   ]
  },
  {
   "cell_type": "code",
   "execution_count": 3,
   "metadata": {},
   "outputs": [
    {
     "name": "stdout",
     "output_type": "stream",
     "text": [
      "<class 'pandas.core.frame.DataFrame'>\n",
      "RangeIndex: 67 entries, 0 to 66\n",
      "Data columns (total 2 columns):\n",
      " #   Column  Non-Null Count  Dtype \n",
      "---  ------  --------------  ----- \n",
      " 0   質問      67 non-null     object\n",
      " 1   回答      67 non-null     object\n",
      "dtypes: object(2)\n",
      "memory usage: 1.2+ KB\n"
     ]
    }
   ],
   "source": [
    "# ファイルパスを指定してCSVファイルを読み込む。読み込むときはutf8でエンコードする。改行コードは\\nに統一する。\n",
    "df = pd.read_csv(input_file, encoding=\"utf8\", lineterminator=\"\\n\")\n",
    "# 必要な列だけを抽出する\n",
    "df = df[[col_q, col_a]]\n",
    "df.info()"
   ]
  },
  {
   "cell_type": "markdown",
   "metadata": {},
   "source": [
    "### カスタム関数"
   ]
  },
  {
   "cell_type": "markdown",
   "metadata": {},
   "source": [
    "各種データに対して以下のセルは修正すること"
   ]
  },
  {
   "cell_type": "code",
   "execution_count": 4,
   "metadata": {},
   "outputs": [],
   "source": [
    "# 処理例\n",
    "# - 変換前: \"これはテストです。\\n次の行の内容です。\"\n",
    "# - 変換後: \"これはテストに関する質問です。\\n次の行の内容です。\"\n",
    "def surround_first_line(text):\n",
    "    lines = text.split('\\n')\n",
    "    if len(lines) > 1:  # 複数行の場合\n",
    "        if lines[0].endswith('。'): # 1行目が\"。\"で終わる場合\n",
    "            lines[0] = lines[0][:-1]  # 最後の文字 \"。\" を削除\n",
    "        if len(lines[0]) > 0:   # 1行目の文字数が0より大きい場合\n",
    "            lines[0] = f\"{lines[0]}に関する質問です。\"\n",
    "    return '\\n'.join(lines)\n",
    "\n",
    "# 例\n",
    "# - 変換前: \"この文には句点がありません\"\n",
    "# - 変換後: \"この文には句点がありません。\"\n",
    "def surround_last_line(text):\n",
    "    if text[-1] not in ['。', '？', '）', '】', '?', '!']:\n",
    "        return f\"{text}。\"\n",
    "    else:\n",
    "        return text\n",
    "    \n",
    "\n",
    "# 空行とスペースを削除する関数\n",
    "def remove_empty_lines_and_spaces(text):\n",
    "    text = re.sub(r'[A-Z][0-9]{4}', '', text)\n",
    "    text = re.sub(r'[A-Z][0-9]{3}', '', text)\n",
    "    text = re.sub(r'\\n\\s*\\n', '\\n', text)  # 空行を削除\n",
    "    text = text.replace(' ', '')  # 半角スペースを削除\n",
    "    text = text.replace('　', '')  # 全角スペースを削除\n",
    "    text = text.replace('\"', '')\n",
    "    text = re.sub(r'[\\r\\n]+', '', text)  # 改行コードを削除\n",
    "    return text"
   ]
  },
  {
   "cell_type": "markdown",
   "metadata": {},
   "source": [
    "### カスタム処理"
   ]
  },
  {
   "cell_type": "code",
   "execution_count": 5,
   "metadata": {},
   "outputs": [],
   "source": [
    "# df[col_q]の1行目に\"に関する質問です。\"を追加\n",
    "df[col_q] = df[col_q].apply(surround_first_line)\n",
    "\n",
    "# df[col_q]の末尾が \"）\" もしくは \"。\" もしくは\"？\" で終わっていないものに関して \"。これに関する情報を知りたい。\"を追加\n",
    "df[col_q] = df[col_q].apply(surround_last_line)"
   ]
  },
  {
   "cell_type": "markdown",
   "metadata": {},
   "source": [
    "### 正規表現と置換のみで処理"
   ]
  },
  {
   "cell_type": "code",
   "execution_count": 6,
   "metadata": {},
   "outputs": [],
   "source": [
    "# df[col_q]の末尾が \"か。\"で終わるものを\"か？\"に変換\n",
    "df[col_q] = df[col_q].str.replace('か。', 'か？', regex=True)\n",
    "\n",
    "# df[col_q]の末尾が \"は。\"で終わるものを\"は？\"に変換\n",
    "df[col_q] = df[col_q].str.replace('は。$', 'は？', regex=True)\n",
    "\n",
    "# df[col_q]の末尾が\"か\" で終わるものを\"か？\"に変換\n",
    "df[col_q] = df[col_q].str.replace('ない。$', 'ない。どうすればよいか？', regex=True)\n",
    "\n",
    "# df[col_q]の末尾が\"したい。\" で終わるものを\"したい。どうすれば良いか？\"に変換\n",
    "df[col_q] = df[col_q].str.replace('したい。$', 'したい。どうすれば良いか？', regex=True)\n",
    "\n",
    "# df[col_q]の末尾が\"方法\" で終わるものを\"方法は？\"に変換\n",
    "df[col_q] = df[col_q].str.replace('方法$', '方法を教えてほしい。', regex=True)\n",
    "\n",
    "# df[col_q]の末尾が\"方法\" で終わるものを\"方法は？\"に変換\n",
    "df[col_q] = df[col_q].str.replace('された。$', 'された。どうすれば良いか？', regex=True)\n",
    "\n",
    "# df[col_q]の末尾が\"方法\" で終わるものを\"方法は？\"に変換\n",
    "df[col_q] = df[col_q].str.replace('ついて$', 'ついて教えてほしい。', regex=True)"
   ]
  },
  {
   "cell_type": "code",
   "execution_count": 7,
   "metadata": {},
   "outputs": [],
   "source": [
    "# 全てのセルに対して空行を削除\n",
    "df = df.applymap(remove_empty_lines_and_spaces)"
   ]
  },
  {
   "cell_type": "markdown",
   "metadata": {},
   "source": [
    "## ファイルの保存"
   ]
  },
  {
   "cell_type": "markdown",
   "metadata": {},
   "source": [
    "### onelinerのcsvとして保存(2列)"
   ]
  },
  {
   "cell_type": "code",
   "execution_count": 8,
   "metadata": {},
   "outputs": [],
   "source": [
    "df.to_csv(f'{output_file}.csv', index=False)"
   ]
  },
  {
   "cell_type": "markdown",
   "metadata": {},
   "source": [
    "### onelinerのtxtとして保存"
   ]
  },
  {
   "cell_type": "code",
   "execution_count": 9,
   "metadata": {},
   "outputs": [],
   "source": [
    "# 質問と回答を結合してテキストデータを作成\n",
    "merged_text = df[col_q] + df[col_a]\n",
    "# テキストファイルに保存\n",
    "with open(f'{output_file}.txt', 'w') as file:\n",
    "    for text in merged_text:\n",
    "        file.write(text + \"\\n\")"
   ]
  },
  {
   "cell_type": "markdown",
   "metadata": {},
   "source": [
    "### onelinerのtxtとしてoutputディレクトリに分割保存"
   ]
  },
  {
   "cell_type": "code",
   "execution_count": 10,
   "metadata": {},
   "outputs": [],
   "source": [
    "# outputディレクトリを削除する\n",
    "output_dir = split_oneliner_dir\n",
    "if os.path.exists(f'{output_dir}'):\n",
    "    shutil.rmtree(f'{output_dir}')\n",
    "\n",
    "# (1) outputディレクトリを作成する\n",
    "os.makedirs(f'{output_dir}')\n",
    "\n",
    "# (2) df[col_q]とdf[col_a]を結合して1行1行分割し、outputディレクトリに保存する\n",
    "for index, val in df.iterrows():\n",
    "    question = val[col_q]\n",
    "    answer = val[col_a]\n",
    "    combined_text = question + answer\n",
    "    # インデックスを4桁のゼロパディングに変換\n",
    "    padded_index = str(index).zfill(4)\n",
    "    # 保存するファイル名を作成\n",
    "    filename = os.path.join(output_dir, f\"{output_file}-{padded_index}.txt\")\n",
    "    \n",
    "    # ファイルを書き込む前にディレクトリが存在するかを確認\n",
    "    os.makedirs(os.path.dirname(filename), exist_ok=True)\n",
    "    \n",
    "    # ファイルを保存\n",
    "    with open(filename, 'w') as file:\n",
    "        file.write(combined_text)\n",
    "\n",
    "# 分割されたファイルをtgz形式で圧縮する\n",
    "shutil.make_archive(f'split-{output_file}', 'gztar', output_dir)\n",
    "\n",
    "# outputディレクトリを削除する\n",
    "shutil.rmtree(f'{output_dir}')"
   ]
  }
 ],
 "metadata": {
  "kernelspec": {
   "display_name": "mldl",
   "language": "python",
   "name": "python3"
  },
  "language_info": {
   "codemirror_mode": {
    "name": "ipython",
    "version": 3
   },
   "file_extension": ".py",
   "mimetype": "text/x-python",
   "name": "python",
   "nbconvert_exporter": "python",
   "pygments_lexer": "ipython3",
   "version": "3.9.15"
  }
 },
 "nbformat": 4,
 "nbformat_minor": 2
}
